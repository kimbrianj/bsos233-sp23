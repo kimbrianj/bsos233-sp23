{
 "cells": [
  {
   "cell_type": "code",
   "execution_count": 2,
   "id": "6c346af4-5946-4af1-a208-13b85fbbf5b2",
   "metadata": {},
   "outputs": [],
   "source": [
    "import numpy as np\n",
    "from datascience import *\n",
    "\n",
    "%matplotlib inline"
   ]
  },
  {
   "cell_type": "code",
   "execution_count": 3,
   "id": "f99a1e04-f1b7-4564-918a-10232d934e15",
   "metadata": {},
   "outputs": [],
   "source": [
    "cah = Table.read_table('201709-CAH_PulseOfTheNation.csv')"
   ]
  },
  {
   "cell_type": "code",
   "execution_count": 4,
   "id": "af712b39-b517-4b67-b439-acffc30f604a",
   "metadata": {},
   "outputs": [
    {
     "data": {
      "text/html": [
       "<table border=\"1\" class=\"dataframe\">\n",
       "    <thead>\n",
       "        <tr>\n",
       "            <th>Income</th> <th>Gender</th> <th>Age</th> <th>Age Range</th> <th>Political Affiliation</th> <th>Transformer Movies</th> <th>Level of Education</th> <th>Believe in Ghosts</th>\n",
       "        </tr>\n",
       "    </thead>\n",
       "    <tbody>\n",
       "        <tr>\n",
       "            <td>68000 </td> <td>Female</td> <td>56  </td> <td>55-64    </td> <td>Democrat             </td> <td>0                 </td> <td>High school       </td> <td>No               </td>\n",
       "        </tr>\n",
       "        <tr>\n",
       "            <td>46000 </td> <td>Male  </td> <td>63  </td> <td>55-64    </td> <td>Independent          </td> <td>0                 </td> <td>Some college      </td> <td>No               </td>\n",
       "        </tr>\n",
       "        <tr>\n",
       "            <td>51000 </td> <td>Male  </td> <td>48  </td> <td>45-54    </td> <td>Republican           </td> <td>0                 </td> <td>High school       </td> <td>No               </td>\n",
       "        </tr>\n",
       "        <tr>\n",
       "            <td>54000 </td> <td>Female</td> <td>64  </td> <td>55-64    </td> <td>Democrat             </td> <td>0                 </td> <td>Some college      </td> <td>No               </td>\n",
       "        </tr>\n",
       "        <tr>\n",
       "            <td>83000 </td> <td>Male  </td> <td>61  </td> <td>55-64    </td> <td>Independent          </td> <td>0                 </td> <td>College degree    </td> <td>Yes              </td>\n",
       "        </tr>\n",
       "    </tbody>\n",
       "</table>\n",
       "<p>... (305 rows omitted)</p>"
      ],
      "text/plain": [
       "<IPython.core.display.HTML object>"
      ]
     },
     "metadata": {},
     "output_type": "display_data"
    }
   ],
   "source": [
    "cah.show(5)"
   ]
  },
  {
   "cell_type": "code",
   "execution_count": 5,
   "id": "591967b6-3308-4bf0-a8dc-1beff08bea1b",
   "metadata": {},
   "outputs": [
    {
     "data": {
      "text/html": [
       "<table border=\"1\" class=\"dataframe\">\n",
       "    <thead>\n",
       "        <tr>\n",
       "            <th>Political Affiliation</th> <th>count</th>\n",
       "        </tr>\n",
       "    </thead>\n",
       "    <tbody>\n",
       "        <tr>\n",
       "            <td>DK/REF               </td> <td>31   </td>\n",
       "        </tr>\n",
       "        <tr>\n",
       "            <td>Democrat             </td> <td>87   </td>\n",
       "        </tr>\n",
       "        <tr>\n",
       "            <td>Independent          </td> <td>120  </td>\n",
       "        </tr>\n",
       "        <tr>\n",
       "            <td>Republican           </td> <td>72   </td>\n",
       "        </tr>\n",
       "    </tbody>\n",
       "</table>"
      ],
      "text/plain": [
       "Political Affiliation | count\n",
       "DK/REF                | 31\n",
       "Democrat              | 87\n",
       "Independent           | 120\n",
       "Republican            | 72"
      ]
     },
     "execution_count": 5,
     "metadata": {},
     "output_type": "execute_result"
    }
   ],
   "source": [
    "cah.group('Political Affiliation')"
   ]
  },
  {
   "cell_type": "code",
   "execution_count": 9,
   "id": "b6b27181-c89e-465e-819e-8a6564bcd098",
   "metadata": {
    "collapsed": true,
    "jupyter": {
     "outputs_hidden": true
    },
    "tags": []
   },
   "outputs": [
    {
     "data": {
      "text/plain": [
       "array([ True, False, False,  True, False, False,  True,  True, False,\n",
       "        True,  True, False, False,  True, False,  True, False,  True,\n",
       "        True, False, False,  True, False,  True, False, False, False,\n",
       "       False, False,  True, False, False, False, False, False, False,\n",
       "       False, False, False, False, False, False, False, False, False,\n",
       "       False,  True, False,  True,  True,  True,  True, False, False,\n",
       "        True,  True, False, False, False,  True, False, False, False,\n",
       "       False,  True,  True, False, False,  True, False, False, False,\n",
       "       False,  True, False, False, False,  True, False, False, False,\n",
       "       False,  True, False,  True, False, False, False,  True, False,\n",
       "       False, False, False,  True, False, False, False, False,  True,\n",
       "       False, False, False, False, False, False, False,  True,  True,\n",
       "       False, False,  True, False, False, False, False, False, False,\n",
       "       False, False, False, False,  True, False, False,  True, False,\n",
       "       False, False,  True, False, False, False, False,  True, False,\n",
       "       False, False, False, False, False, False,  True, False, False,\n",
       "        True,  True, False, False, False,  True, False, False, False,\n",
       "       False, False,  True, False, False,  True,  True,  True, False,\n",
       "       False, False, False, False, False, False, False,  True, False,\n",
       "        True, False, False, False, False, False, False,  True, False,\n",
       "       False, False, False, False, False, False,  True, False,  True,\n",
       "       False, False, False, False,  True, False,  True,  True,  True,\n",
       "        True,  True,  True, False, False, False, False,  True, False,\n",
       "        True, False, False, False,  True, False, False,  True, False,\n",
       "        True, False,  True, False,  True,  True, False, False,  True,\n",
       "       False,  True, False, False, False,  True, False, False, False,\n",
       "       False, False, False, False, False,  True, False, False,  True,\n",
       "       False,  True, False, False, False, False, False, False, False,\n",
       "       False,  True, False, False, False, False, False, False, False,\n",
       "        True, False, False, False, False, False,  True, False, False,\n",
       "        True, False, False, False, False, False, False,  True, False,\n",
       "        True, False, False, False,  True, False, False, False, False,\n",
       "       False, False,  True,  True,  True, False,  True, False, False,\n",
       "       False, False, False, False,  True, False,  True, False, False,\n",
       "        True,  True, False, False], dtype=bool)"
      ]
     },
     "execution_count": 9,
     "metadata": {},
     "output_type": "execute_result"
    }
   ],
   "source": [
    "cah.column('Political Affiliation') == 'Democrat'"
   ]
  },
  {
   "cell_type": "code",
   "execution_count": 12,
   "id": "6fd660c9-759b-4429-a9ba-975d6cb0f585",
   "metadata": {},
   "outputs": [],
   "source": [
    "cah_affiliation = cah.with_columns('Democrat', cah.column('Political Affiliation') == 'Democrat',\n",
    "                'Republican', cah.column('Political Affiliation') == 'Republican',\n",
    "                'Independent', cah.column('Political Affiliation') == 'Independent'). drop('Political Affiliation')"
   ]
  },
  {
   "cell_type": "code",
   "execution_count": 13,
   "id": "1d9f55bc-51e3-4628-8bed-c4885a6b83bb",
   "metadata": {},
   "outputs": [
    {
     "data": {
      "text/html": [
       "<table border=\"1\" class=\"dataframe\">\n",
       "    <thead>\n",
       "        <tr>\n",
       "            <th>Income</th> <th>Gender</th> <th>Age</th> <th>Age Range</th> <th>Transformer Movies</th> <th>Level of Education</th> <th>Believe in Ghosts</th> <th>Democrat</th> <th>Republican</th> <th>Independent</th>\n",
       "        </tr>\n",
       "    </thead>\n",
       "    <tbody>\n",
       "        <tr>\n",
       "            <td>68000 </td> <td>Female</td> <td>56  </td> <td>55-64    </td> <td>0                 </td> <td>High school       </td> <td>No               </td> <td>True    </td> <td>False     </td> <td>False      </td>\n",
       "        </tr>\n",
       "        <tr>\n",
       "            <td>46000 </td> <td>Male  </td> <td>63  </td> <td>55-64    </td> <td>0                 </td> <td>Some college      </td> <td>No               </td> <td>False   </td> <td>False     </td> <td>True       </td>\n",
       "        </tr>\n",
       "        <tr>\n",
       "            <td>51000 </td> <td>Male  </td> <td>48  </td> <td>45-54    </td> <td>0                 </td> <td>High school       </td> <td>No               </td> <td>False   </td> <td>True      </td> <td>False      </td>\n",
       "        </tr>\n",
       "        <tr>\n",
       "            <td>54000 </td> <td>Female</td> <td>64  </td> <td>55-64    </td> <td>0                 </td> <td>Some college      </td> <td>No               </td> <td>True    </td> <td>False     </td> <td>False      </td>\n",
       "        </tr>\n",
       "        <tr>\n",
       "            <td>83000 </td> <td>Male  </td> <td>61  </td> <td>55-64    </td> <td>0                 </td> <td>College degree    </td> <td>Yes              </td> <td>False   </td> <td>False     </td> <td>True       </td>\n",
       "        </tr>\n",
       "    </tbody>\n",
       "</table>\n",
       "<p>... (305 rows omitted)</p>"
      ],
      "text/plain": [
       "<IPython.core.display.HTML object>"
      ]
     },
     "metadata": {},
     "output_type": "display_data"
    }
   ],
   "source": [
    "cah_affiliation.show(5)"
   ]
  },
  {
   "cell_type": "code",
   "execution_count": 14,
   "id": "f9602bf6-c7c5-421e-9fdb-bd013413f431",
   "metadata": {},
   "outputs": [
    {
     "data": {
      "text/html": [
       "<table border=\"1\" class=\"dataframe\">\n",
       "    <thead>\n",
       "        <tr>\n",
       "            <th>Believe in Ghosts</th> <th>count</th>\n",
       "        </tr>\n",
       "    </thead>\n",
       "    <tbody>\n",
       "        <tr>\n",
       "            <td>DK/REF           </td> <td>8    </td>\n",
       "        </tr>\n",
       "        <tr>\n",
       "            <td>No               </td> <td>187  </td>\n",
       "        </tr>\n",
       "        <tr>\n",
       "            <td>Yes              </td> <td>115  </td>\n",
       "        </tr>\n",
       "    </tbody>\n",
       "</table>"
      ],
      "text/plain": [
       "Believe in Ghosts | count\n",
       "DK/REF            | 8\n",
       "No                | 187\n",
       "Yes               | 115"
      ]
     },
     "execution_count": 14,
     "metadata": {},
     "output_type": "execute_result"
    }
   ],
   "source": [
    "cah.group('Believe in Ghosts')"
   ]
  },
  {
   "cell_type": "code",
   "execution_count": 16,
   "id": "751bc48e-da94-4875-9f85-0399729b4bc3",
   "metadata": {},
   "outputs": [
    {
     "data": {
      "text/html": [
       "<table border=\"1\" class=\"dataframe\">\n",
       "    <thead>\n",
       "        <tr>\n",
       "            <th>Believe in Ghosts</th>\n",
       "        </tr>\n",
       "    </thead>\n",
       "    <tbody>\n",
       "        <tr>\n",
       "            <td>No               </td>\n",
       "        </tr>\n",
       "        <tr>\n",
       "            <td>No               </td>\n",
       "        </tr>\n",
       "        <tr>\n",
       "            <td>No               </td>\n",
       "        </tr>\n",
       "        <tr>\n",
       "            <td>No               </td>\n",
       "        </tr>\n",
       "        <tr>\n",
       "            <td>Yes              </td>\n",
       "        </tr>\n",
       "        <tr>\n",
       "            <td>No               </td>\n",
       "        </tr>\n",
       "        <tr>\n",
       "            <td>No               </td>\n",
       "        </tr>\n",
       "        <tr>\n",
       "            <td>No               </td>\n",
       "        </tr>\n",
       "        <tr>\n",
       "            <td>Yes              </td>\n",
       "        </tr>\n",
       "        <tr>\n",
       "            <td>Yes              </td>\n",
       "        </tr>\n",
       "    </tbody>\n",
       "</table>\n",
       "<p>... (300 rows omitted)</p>"
      ],
      "text/plain": [
       "Believe in Ghosts\n",
       "No\n",
       "No\n",
       "No\n",
       "No\n",
       "Yes\n",
       "No\n",
       "No\n",
       "No\n",
       "Yes\n",
       "Yes\n",
       "... (300 rows omitted)"
      ]
     },
     "execution_count": 16,
     "metadata": {},
     "output_type": "execute_result"
    }
   ],
   "source": [
    "cah.select('Believe in Ghosts')"
   ]
  },
  {
   "cell_type": "code",
   "execution_count": 17,
   "id": "07ecefdb-3612-4f7f-b5bf-0f4b3d7dc8e2",
   "metadata": {},
   "outputs": [],
   "source": [
    "def believe_in_ghosts(answer):\n",
    "    return answer == 'Yes'"
   ]
  },
  {
   "cell_type": "code",
   "execution_count": 18,
   "id": "e289f1ac-09ed-4137-8b2f-14266c88f0a2",
   "metadata": {},
   "outputs": [],
   "source": [
    "def doesnt_believe_in_ghosts(answer):\n",
    "    return answer == 'No'"
   ]
  },
  {
   "cell_type": "code",
   "execution_count": 19,
   "id": "c5a4d30a-3109-4a28-96d7-da2b24b241cd",
   "metadata": {},
   "outputs": [],
   "source": [
    "def believe_in_ghosts(answer):\n",
    "    if answer == 'Yes':\n",
    "        return 1\n",
    "    else:\n",
    "        return 0"
   ]
  },
  {
   "cell_type": "code",
   "execution_count": 20,
   "id": "bf91980b-543f-408b-a9f3-e6dfc13d7baf",
   "metadata": {},
   "outputs": [],
   "source": [
    "def doesnt_believe_in_ghosts(answer):\n",
    "    if answer == 'No':\n",
    "        return 1\n",
    "    else:\n",
    "        return 0"
   ]
  },
  {
   "cell_type": "code",
   "execution_count": 22,
   "id": "b59875c8-9664-47a6-91a8-2035144759e0",
   "metadata": {
    "collapsed": true,
    "jupyter": {
     "outputs_hidden": true
    },
    "tags": []
   },
   "outputs": [
    {
     "data": {
      "text/html": [
       "<table border=\"1\" class=\"dataframe\">\n",
       "    <thead>\n",
       "        <tr>\n",
       "            <th>Income</th> <th>Gender</th> <th>Age</th> <th>Age Range</th> <th>Political Affiliation</th> <th>Transformer Movies</th> <th>Level of Education</th> <th>Believe in Ghosts</th> <th>Believes in Ghosts</th> <th>Does not Believe in Ghosts</th>\n",
       "        </tr>\n",
       "    </thead>\n",
       "    <tbody>\n",
       "        <tr>\n",
       "            <td>68000 </td> <td>Female</td> <td>56  </td> <td>55-64    </td> <td>Democrat             </td> <td>0                 </td> <td>High school       </td> <td>No               </td> <td>0                 </td> <td>1                         </td>\n",
       "        </tr>\n",
       "        <tr>\n",
       "            <td>46000 </td> <td>Male  </td> <td>63  </td> <td>55-64    </td> <td>Independent          </td> <td>0                 </td> <td>Some college      </td> <td>No               </td> <td>0                 </td> <td>1                         </td>\n",
       "        </tr>\n",
       "        <tr>\n",
       "            <td>51000 </td> <td>Male  </td> <td>48  </td> <td>45-54    </td> <td>Republican           </td> <td>0                 </td> <td>High school       </td> <td>No               </td> <td>0                 </td> <td>1                         </td>\n",
       "        </tr>\n",
       "        <tr>\n",
       "            <td>54000 </td> <td>Female</td> <td>64  </td> <td>55-64    </td> <td>Democrat             </td> <td>0                 </td> <td>Some college      </td> <td>No               </td> <td>0                 </td> <td>1                         </td>\n",
       "        </tr>\n",
       "        <tr>\n",
       "            <td>83000 </td> <td>Male  </td> <td>61  </td> <td>55-64    </td> <td>Independent          </td> <td>0                 </td> <td>College degree    </td> <td>Yes              </td> <td>1                 </td> <td>0                         </td>\n",
       "        </tr>\n",
       "        <tr>\n",
       "            <td>90000 </td> <td>Female</td> <td>64  </td> <td>55-64    </td> <td>Republican           </td> <td>0                 </td> <td>High school       </td> <td>No               </td> <td>0                 </td> <td>1                         </td>\n",
       "        </tr>\n",
       "        <tr>\n",
       "            <td>5000  </td> <td>Female</td> <td>68  </td> <td>65+      </td> <td>Democrat             </td> <td>0                 </td> <td>Some college      </td> <td>No               </td> <td>0                 </td> <td>1                         </td>\n",
       "        </tr>\n",
       "        <tr>\n",
       "            <td>57000 </td> <td>Female</td> <td>63  </td> <td>55-64    </td> <td>Democrat             </td> <td>0                 </td> <td>College degree    </td> <td>No               </td> <td>0                 </td> <td>1                         </td>\n",
       "        </tr>\n",
       "        <tr>\n",
       "            <td>47000 </td> <td>Female</td> <td>44  </td> <td>35-44    </td> <td>Independent          </td> <td>1                 </td> <td>High school       </td> <td>Yes              </td> <td>1                 </td> <td>0                         </td>\n",
       "        </tr>\n",
       "        <tr>\n",
       "            <td>39000 </td> <td>Female</td> <td>57  </td> <td>55-64    </td> <td>Democrat             </td> <td>0                 </td> <td>College degree    </td> <td>Yes              </td> <td>1                 </td> <td>0                         </td>\n",
       "        </tr>\n",
       "    </tbody>\n",
       "</table>\n",
       "<p>... (300 rows omitted)</p>"
      ],
      "text/plain": [
       "Income | Gender | Age  | Age Range | Political Affiliation | Transformer Movies | Level of Education | Believe in Ghosts | Believes in Ghosts | Does not Believe in Ghosts\n",
       "68000  | Female | 56   | 55-64     | Democrat              | 0                  | High school        | No                | 0                  | 1\n",
       "46000  | Male   | 63   | 55-64     | Independent           | 0                  | Some college       | No                | 0                  | 1\n",
       "51000  | Male   | 48   | 45-54     | Republican            | 0                  | High school        | No                | 0                  | 1\n",
       "54000  | Female | 64   | 55-64     | Democrat              | 0                  | Some college       | No                | 0                  | 1\n",
       "83000  | Male   | 61   | 55-64     | Independent           | 0                  | College degree     | Yes               | 1                  | 0\n",
       "90000  | Female | 64   | 55-64     | Republican            | 0                  | High school        | No                | 0                  | 1\n",
       "5000   | Female | 68   | 65+       | Democrat              | 0                  | Some college       | No                | 0                  | 1\n",
       "57000  | Female | 63   | 55-64     | Democrat              | 0                  | College degree     | No                | 0                  | 1\n",
       "47000  | Female | 44   | 35-44     | Independent           | 1                  | High school        | Yes               | 1                  | 0\n",
       "39000  | Female | 57   | 55-64     | Democrat              | 0                  | College degree     | Yes               | 1                  | 0\n",
       "... (300 rows omitted)"
      ]
     },
     "execution_count": 22,
     "metadata": {},
     "output_type": "execute_result"
    }
   ],
   "source": [
    "cah.with_columns('Believes in Ghosts', cah.apply(believe_in_ghosts, 'Believe in Ghosts'),\n",
    "                 'Does not Believe in Ghosts', cah.apply(doesnt_believe_in_ghosts, 'Believe in Ghosts'))"
   ]
  },
  {
   "cell_type": "code",
   "execution_count": 23,
   "id": "a05e29d9-f792-40bd-b031-ce528f49e4cb",
   "metadata": {},
   "outputs": [
    {
     "data": {
      "text/html": [
       "<table border=\"1\" class=\"dataframe\">\n",
       "    <thead>\n",
       "        <tr>\n",
       "            <th>Level of Education</th> <th>count</th>\n",
       "        </tr>\n",
       "    </thead>\n",
       "    <tbody>\n",
       "        <tr>\n",
       "            <td>College degree    </td> <td>106  </td>\n",
       "        </tr>\n",
       "        <tr>\n",
       "            <td>Graduate degree   </td> <td>80   </td>\n",
       "        </tr>\n",
       "        <tr>\n",
       "            <td>High school       </td> <td>54   </td>\n",
       "        </tr>\n",
       "        <tr>\n",
       "            <td>Other             </td> <td>5    </td>\n",
       "        </tr>\n",
       "        <tr>\n",
       "            <td>Some college      </td> <td>65   </td>\n",
       "        </tr>\n",
       "    </tbody>\n",
       "</table>"
      ],
      "text/plain": [
       "Level of Education | count\n",
       "College degree     | 106\n",
       "Graduate degree    | 80\n",
       "High school        | 54\n",
       "Other              | 5\n",
       "Some college       | 65"
      ]
     },
     "execution_count": 23,
     "metadata": {},
     "output_type": "execute_result"
    }
   ],
   "source": [
    "cah.group('Level of Education')"
   ]
  },
  {
   "cell_type": "code",
   "execution_count": 25,
   "id": "b3852883-357a-43aa-905a-15aed7d64312",
   "metadata": {
    "collapsed": true,
    "jupyter": {
     "outputs_hidden": true
    },
    "tags": []
   },
   "outputs": [
    {
     "data": {
      "text/html": [
       "<table border=\"1\" class=\"dataframe\">\n",
       "    <thead>\n",
       "        <tr>\n",
       "            <th>Level of Education</th>\n",
       "        </tr>\n",
       "    </thead>\n",
       "    <tbody>\n",
       "        <tr>\n",
       "            <td>High school       </td>\n",
       "        </tr>\n",
       "        <tr>\n",
       "            <td>Some college      </td>\n",
       "        </tr>\n",
       "        <tr>\n",
       "            <td>High school       </td>\n",
       "        </tr>\n",
       "        <tr>\n",
       "            <td>Some college      </td>\n",
       "        </tr>\n",
       "        <tr>\n",
       "            <td>College degree    </td>\n",
       "        </tr>\n",
       "        <tr>\n",
       "            <td>High school       </td>\n",
       "        </tr>\n",
       "        <tr>\n",
       "            <td>Some college      </td>\n",
       "        </tr>\n",
       "        <tr>\n",
       "            <td>College degree    </td>\n",
       "        </tr>\n",
       "        <tr>\n",
       "            <td>High school       </td>\n",
       "        </tr>\n",
       "        <tr>\n",
       "            <td>College degree    </td>\n",
       "        </tr>\n",
       "    </tbody>\n",
       "</table>\n",
       "<p>... (300 rows omitted)</p>"
      ],
      "text/plain": [
       "Level of Education\n",
       "High school\n",
       "Some college\n",
       "High school\n",
       "Some college\n",
       "College degree\n",
       "High school\n",
       "Some college\n",
       "College degree\n",
       "High school\n",
       "College degree\n",
       "... (300 rows omitted)"
      ]
     },
     "execution_count": 25,
     "metadata": {},
     "output_type": "execute_result"
    }
   ],
   "source": [
    "cah.select('Level of Education')"
   ]
  },
  {
   "cell_type": "code",
   "execution_count": 28,
   "id": "6490bb86-0aed-47b7-9fb9-c67ddb39a0cc",
   "metadata": {
    "tags": []
   },
   "outputs": [],
   "source": [
    "college_degree = cah.column('Level of Education') == 'College degree'\n",
    "graduate_degree = cah.column('Level of Education') == 'Graduate degree'"
   ]
  },
  {
   "cell_type": "code",
   "execution_count": 32,
   "id": "356ebc3e-6646-43a3-893f-b02d4b26dfd0",
   "metadata": {},
   "outputs": [
    {
     "data": {
      "text/plain": [
       "array([False, False, False, False,  True, False, False,  True, False,\n",
       "        True,  True,  True,  True, False,  True,  True,  True, False,\n",
       "       False, False,  True, False,  True, False, False,  True, False,\n",
       "        True,  True, False,  True,  True,  True, False,  True,  True,\n",
       "        True, False,  True,  True,  True, False,  True,  True,  True,\n",
       "        True,  True, False,  True, False,  True,  True,  True,  True,\n",
       "        True, False, False, False, False,  True,  True,  True,  True,\n",
       "        True,  True,  True,  True, False,  True,  True,  True, False,\n",
       "        True, False, False,  True, False,  True, False,  True,  True,\n",
       "       False, False,  True,  True, False, False, False,  True,  True,\n",
       "       False,  True,  True,  True,  True,  True,  True,  True,  True,\n",
       "       False,  True, False,  True,  True, False, False,  True, False,\n",
       "       False,  True, False,  True,  True, False,  True,  True, False,\n",
       "       False, False,  True, False,  True,  True,  True, False,  True,\n",
       "       False,  True,  True, False,  True,  True,  True, False, False,\n",
       "       False, False,  True, False,  True,  True, False, False,  True,\n",
       "       False, False, False, False,  True,  True, False, False,  True,\n",
       "        True,  True,  True,  True,  True, False, False,  True,  True,\n",
       "       False,  True, False, False,  True, False,  True, False,  True,\n",
       "        True,  True, False,  True, False,  True,  True,  True, False,\n",
       "       False,  True,  True,  True,  True,  True,  True,  True,  True,\n",
       "        True,  True,  True, False,  True,  True, False, False,  True,\n",
       "        True,  True,  True,  True, False,  True,  True, False,  True,\n",
       "        True, False, False, False,  True,  True, False,  True, False,\n",
       "        True,  True,  True,  True, False,  True,  True,  True,  True,\n",
       "        True,  True,  True, False, False, False, False,  True, False,\n",
       "        True,  True,  True,  True,  True,  True,  True,  True, False,\n",
       "        True,  True,  True, False, False, False, False,  True, False,\n",
       "       False, False, False, False,  True,  True, False, False, False,\n",
       "       False,  True, False,  True,  True,  True, False,  True,  True,\n",
       "       False,  True, False, False,  True,  True,  True, False, False,\n",
       "       False, False,  True,  True,  True,  True,  True,  True, False,\n",
       "       False,  True,  True, False,  True,  True,  True, False,  True,\n",
       "       False, False,  True,  True,  True,  True,  True,  True,  True,\n",
       "       False, False, False,  True], dtype=bool)"
      ]
     },
     "execution_count": 32,
     "metadata": {},
     "output_type": "execute_result"
    }
   ],
   "source": [
    "college_degree | graduate_degree"
   ]
  },
  {
   "cell_type": "code",
   "execution_count": 30,
   "id": "b512ce7f-504a-4118-90c4-82c02512c4e5",
   "metadata": {},
   "outputs": [
    {
     "data": {
      "text/plain": [
       "array([False, False, False, False, False, False, False, False, False,\n",
       "       False, False, False,  True, False, False, False, False, False,\n",
       "       False, False, False, False, False, False, False, False, False,\n",
       "       False, False, False, False, False,  True, False,  True, False,\n",
       "        True, False,  True,  True,  True, False, False, False, False,\n",
       "        True, False, False,  True, False, False, False, False, False,\n",
       "        True, False, False, False, False, False, False,  True,  True,\n",
       "        True, False,  True,  True, False, False, False,  True, False,\n",
       "        True, False, False,  True, False, False, False, False, False,\n",
       "       False, False, False,  True, False, False, False, False,  True,\n",
       "       False,  True, False,  True,  True, False,  True,  True,  True,\n",
       "       False, False, False, False, False, False, False,  True, False,\n",
       "       False, False, False, False,  True, False, False, False, False,\n",
       "       False, False,  True, False, False,  True,  True, False, False,\n",
       "       False,  True, False, False,  True, False, False, False, False,\n",
       "       False, False, False, False,  True, False, False, False,  True,\n",
       "       False, False, False, False, False, False, False, False,  True,\n",
       "       False, False,  True, False, False, False, False, False,  True,\n",
       "       False,  True, False, False, False, False, False, False,  True,\n",
       "       False,  True, False, False, False, False, False, False, False,\n",
       "       False, False,  True,  True,  True, False,  True,  True, False,\n",
       "       False,  True,  True, False, False,  True, False, False, False,\n",
       "       False, False,  True, False, False, False, False, False,  True,\n",
       "       False, False, False, False, False, False, False,  True, False,\n",
       "       False, False,  True, False, False,  True,  True, False,  True,\n",
       "       False, False,  True, False, False, False, False,  True, False,\n",
       "        True,  True, False,  True,  True, False, False, False, False,\n",
       "        True,  True, False, False, False, False, False,  True, False,\n",
       "       False, False, False, False,  True, False, False, False, False,\n",
       "       False, False, False, False, False,  True, False,  True,  True,\n",
       "       False, False, False, False,  True, False, False, False, False,\n",
       "       False, False, False, False, False,  True, False, False, False,\n",
       "       False,  True,  True, False,  True,  True, False, False,  True,\n",
       "       False, False, False, False,  True, False, False,  True,  True,\n",
       "       False, False, False,  True], dtype=bool)"
      ]
     },
     "execution_count": 30,
     "metadata": {},
     "output_type": "execute_result"
    }
   ],
   "source": [
    "graduate_degree"
   ]
  },
  {
   "cell_type": "code",
   "execution_count": 24,
   "id": "dcacc9ba-c529-4419-9ee5-1cda2b3f817b",
   "metadata": {},
   "outputs": [],
   "source": [
    "def college_or_higher(answer):\n",
    "    if answer == 'College degree':\n",
    "        return 1\n",
    "    if answer == 'Graduate degree':\n",
    "        return 1\n",
    "    else:\n",
    "        return 0"
   ]
  },
  {
   "cell_type": "code",
   "execution_count": 26,
   "id": "575b3ad4-2bbd-403e-a8a9-57ff7d1049ee",
   "metadata": {},
   "outputs": [
    {
     "data": {
      "text/plain": [
       "array([0, 0, 0, 0, 1, 0, 0, 1, 0, 1, 1, 1, 1, 0, 1, 1, 1, 0, 0, 0, 1, 0, 1,\n",
       "       0, 0, 1, 0, 1, 1, 0, 1, 1, 1, 0, 1, 1, 1, 0, 1, 1, 1, 0, 1, 1, 1, 1,\n",
       "       1, 0, 1, 0, 1, 1, 1, 1, 1, 0, 0, 0, 0, 1, 1, 1, 1, 1, 1, 1, 1, 0, 1,\n",
       "       1, 1, 0, 1, 0, 0, 1, 0, 1, 0, 1, 1, 0, 0, 1, 1, 0, 0, 0, 1, 1, 0, 1,\n",
       "       1, 1, 1, 1, 1, 1, 1, 0, 1, 0, 1, 1, 0, 0, 1, 0, 0, 1, 0, 1, 1, 0, 1,\n",
       "       1, 0, 0, 0, 1, 0, 1, 1, 1, 0, 1, 0, 1, 1, 0, 1, 1, 1, 0, 0, 0, 0, 1,\n",
       "       0, 1, 1, 0, 0, 1, 0, 0, 0, 0, 1, 1, 0, 0, 1, 1, 1, 1, 1, 1, 0, 0, 1,\n",
       "       1, 0, 1, 0, 0, 1, 0, 1, 0, 1, 1, 1, 0, 1, 0, 1, 1, 1, 0, 0, 1, 1, 1,\n",
       "       1, 1, 1, 1, 1, 1, 1, 1, 0, 1, 1, 0, 0, 1, 1, 1, 1, 1, 0, 1, 1, 0, 1,\n",
       "       1, 0, 0, 0, 1, 1, 0, 1, 0, 1, 1, 1, 1, 0, 1, 1, 1, 1, 1, 1, 1, 0, 0,\n",
       "       0, 0, 1, 0, 1, 1, 1, 1, 1, 1, 1, 1, 0, 1, 1, 1, 0, 0, 0, 0, 1, 0, 0,\n",
       "       0, 0, 0, 1, 1, 0, 0, 0, 0, 1, 0, 1, 1, 1, 0, 1, 1, 0, 1, 0, 0, 1, 1,\n",
       "       1, 0, 0, 0, 0, 1, 1, 1, 1, 1, 1, 0, 0, 1, 1, 0, 1, 1, 1, 0, 1, 0, 0,\n",
       "       1, 1, 1, 1, 1, 1, 1, 0, 0, 0, 1])"
      ]
     },
     "execution_count": 26,
     "metadata": {},
     "output_type": "execute_result"
    }
   ],
   "source": [
    "cah.apply(college_or_higher, 'Level of Education')"
   ]
  },
  {
   "cell_type": "code",
   "execution_count": null,
   "id": "c75a9c8b-f764-4c63-a60f-960548041483",
   "metadata": {},
   "outputs": [],
   "source": []
  }
 ],
 "metadata": {
  "kernelspec": {
   "display_name": "Python 3 (ipykernel)",
   "language": "python",
   "name": "python3"
  },
  "language_info": {
   "codemirror_mode": {
    "name": "ipython",
    "version": 3
   },
   "file_extension": ".py",
   "mimetype": "text/x-python",
   "name": "python",
   "nbconvert_exporter": "python",
   "pygments_lexer": "ipython3",
   "version": "3.8.10"
  }
 },
 "nbformat": 4,
 "nbformat_minor": 5
}
