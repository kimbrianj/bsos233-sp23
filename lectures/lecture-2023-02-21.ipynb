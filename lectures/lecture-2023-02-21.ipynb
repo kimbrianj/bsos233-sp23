{
 "cells": [
  {
   "cell_type": "code",
   "execution_count": 1,
   "id": "d3df6d8b",
   "metadata": {},
   "outputs": [],
   "source": [
    "import numpy as np\n",
    "from datascience import *"
   ]
  },
  {
   "cell_type": "code",
   "execution_count": 2,
   "id": "e5c76170",
   "metadata": {},
   "outputs": [],
   "source": [
    "y = 3"
   ]
  },
  {
   "cell_type": "code",
   "execution_count": 3,
   "id": "e2c54576",
   "metadata": {},
   "outputs": [],
   "source": [
    "def double(x):\n",
    "    \"\"\" Double x \"\"\"\n",
    "    return 2*x"
   ]
  },
  {
   "cell_type": "code",
   "execution_count": 4,
   "id": "cd371613",
   "metadata": {},
   "outputs": [
    {
     "data": {
      "text/plain": [
       "10"
      ]
     },
     "execution_count": 4,
     "metadata": {},
     "output_type": "execute_result"
    }
   ],
   "source": [
    "double(5)"
   ]
  },
  {
   "cell_type": "code",
   "execution_count": 5,
   "id": "c12be68c",
   "metadata": {},
   "outputs": [
    {
     "data": {
      "text/plain": [
       "4"
      ]
     },
     "execution_count": 5,
     "metadata": {},
     "output_type": "execute_result"
    }
   ],
   "source": [
    "double(2)"
   ]
  },
  {
   "cell_type": "code",
   "execution_count": 6,
   "id": "ace99d70",
   "metadata": {},
   "outputs": [],
   "source": [
    "def double2(x):\n",
    "    \"\"\" Double x \"\"\"\n",
    "    print(2*x)"
   ]
  },
  {
   "cell_type": "code",
   "execution_count": 7,
   "id": "802b5499",
   "metadata": {},
   "outputs": [
    {
     "name": "stdout",
     "output_type": "stream",
     "text": [
      "8\n"
     ]
    }
   ],
   "source": [
    "double2(4)"
   ]
  },
  {
   "cell_type": "code",
   "execution_count": 8,
   "id": "09c75e02",
   "metadata": {},
   "outputs": [
    {
     "name": "stdout",
     "output_type": "stream",
     "text": [
      "4\n"
     ]
    }
   ],
   "source": [
    "double2(2)"
   ]
  },
  {
   "cell_type": "code",
   "execution_count": 9,
   "id": "c220c2a1",
   "metadata": {},
   "outputs": [
    {
     "name": "stdout",
     "output_type": "stream",
     "text": [
      "8\n"
     ]
    }
   ],
   "source": [
    "value = double(4)\n",
    "value2 = double2(4)"
   ]
  },
  {
   "cell_type": "code",
   "execution_count": 10,
   "id": "f9892387",
   "metadata": {},
   "outputs": [
    {
     "data": {
      "text/plain": [
       "8"
      ]
     },
     "execution_count": 10,
     "metadata": {},
     "output_type": "execute_result"
    }
   ],
   "source": [
    "value"
   ]
  },
  {
   "cell_type": "code",
   "execution_count": 11,
   "id": "b5f25f61",
   "metadata": {},
   "outputs": [],
   "source": [
    "value2"
   ]
  },
  {
   "cell_type": "code",
   "execution_count": 14,
   "id": "5b71d7c5",
   "metadata": {},
   "outputs": [],
   "source": [
    "cah = Table.read_table('201709-CAH_PulseOfTheNation.csv')"
   ]
  },
  {
   "cell_type": "code",
   "execution_count": 15,
   "id": "f99bfc91",
   "metadata": {},
   "outputs": [
    {
     "data": {
      "text/html": [
       "<table border=\"1\" class=\"dataframe\">\n",
       "    <thead>\n",
       "        <tr>\n",
       "            <th>Income</th> <th>Gender</th> <th>Age</th> <th>Age Range</th> <th>Political Affiliation</th> <th>Transformer Movies</th> <th>Level of Education</th> <th>Believe in Ghosts</th>\n",
       "        </tr>\n",
       "    </thead>\n",
       "    <tbody>\n",
       "        <tr>\n",
       "            <td>68000 </td> <td>Female</td> <td>56  </td> <td>55-64    </td> <td>Democrat             </td> <td>0                 </td> <td>High school       </td> <td>No               </td>\n",
       "        </tr>\n",
       "        <tr>\n",
       "            <td>46000 </td> <td>Male  </td> <td>63  </td> <td>55-64    </td> <td>Independent          </td> <td>0                 </td> <td>Some college      </td> <td>No               </td>\n",
       "        </tr>\n",
       "        <tr>\n",
       "            <td>51000 </td> <td>Male  </td> <td>48  </td> <td>45-54    </td> <td>Republican           </td> <td>0                 </td> <td>High school       </td> <td>No               </td>\n",
       "        </tr>\n",
       "        <tr>\n",
       "            <td>54000 </td> <td>Female</td> <td>64  </td> <td>55-64    </td> <td>Democrat             </td> <td>0                 </td> <td>Some college      </td> <td>No               </td>\n",
       "        </tr>\n",
       "        <tr>\n",
       "            <td>83000 </td> <td>Male  </td> <td>61  </td> <td>55-64    </td> <td>Independent          </td> <td>0                 </td> <td>College degree    </td> <td>Yes              </td>\n",
       "        </tr>\n",
       "    </tbody>\n",
       "</table>\n",
       "<p>... (305 rows omitted)</p>"
      ],
      "text/plain": [
       "<IPython.core.display.HTML object>"
      ]
     },
     "metadata": {},
     "output_type": "display_data"
    }
   ],
   "source": [
    "cah.show(5)"
   ]
  },
  {
   "cell_type": "code",
   "execution_count": 16,
   "id": "4dd4a6c1",
   "metadata": {},
   "outputs": [],
   "source": [
    "affiliation_counts = cah.group('Political Affiliation')"
   ]
  },
  {
   "cell_type": "code",
   "execution_count": 17,
   "id": "692d470d",
   "metadata": {},
   "outputs": [
    {
     "data": {
      "text/html": [
       "<table border=\"1\" class=\"dataframe\">\n",
       "    <thead>\n",
       "        <tr>\n",
       "            <th>Political Affiliation</th> <th>count</th>\n",
       "        </tr>\n",
       "    </thead>\n",
       "    <tbody>\n",
       "        <tr>\n",
       "            <td>DK/REF               </td> <td>31   </td>\n",
       "        </tr>\n",
       "        <tr>\n",
       "            <td>Democrat             </td> <td>87   </td>\n",
       "        </tr>\n",
       "        <tr>\n",
       "            <td>Independent          </td> <td>120  </td>\n",
       "        </tr>\n",
       "        <tr>\n",
       "            <td>Republican           </td> <td>72   </td>\n",
       "        </tr>\n",
       "    </tbody>\n",
       "</table>"
      ],
      "text/plain": [
       "Political Affiliation | count\n",
       "DK/REF                | 31\n",
       "Democrat              | 87\n",
       "Independent           | 120\n",
       "Republican            | 72"
      ]
     },
     "execution_count": 17,
     "metadata": {},
     "output_type": "execute_result"
    }
   ],
   "source": [
    "affiliation_counts"
   ]
  },
  {
   "cell_type": "code",
   "execution_count": 18,
   "id": "f7252ec9",
   "metadata": {},
   "outputs": [
    {
     "data": {
      "text/plain": [
       "310"
      ]
     },
     "execution_count": 18,
     "metadata": {},
     "output_type": "execute_result"
    }
   ],
   "source": [
    "affiliation_counts.column('count').sum()"
   ]
  },
  {
   "cell_type": "code",
   "execution_count": 19,
   "id": "910e4501",
   "metadata": {},
   "outputs": [
    {
     "data": {
      "text/plain": [
       "310"
      ]
     },
     "execution_count": 19,
     "metadata": {},
     "output_type": "execute_result"
    }
   ],
   "source": [
    "cah.num_rows"
   ]
  },
  {
   "cell_type": "code",
   "execution_count": 20,
   "id": "ec0f1448",
   "metadata": {},
   "outputs": [],
   "source": [
    "def column_proportion(value):\n",
    "    \"\"\"\n",
    "    Convert a count in the cah table into a proportion.\n",
    "    \n",
    "    Arguments:\n",
    "    count: count within that category\n",
    "    \n",
    "    Return:\n",
    "    A proportion\n",
    "    \"\"\"\n",
    "    proportion = value / affiliation_counts.column('count').sum()\n",
    "    return np.round(proportion, 2)\n",
    "    "
   ]
  },
  {
   "cell_type": "code",
   "execution_count": 21,
   "id": "fc3ab461",
   "metadata": {},
   "outputs": [
    {
     "data": {
      "text/plain": [
       "0.28000000000000003"
      ]
     },
     "execution_count": 21,
     "metadata": {},
     "output_type": "execute_result"
    }
   ],
   "source": [
    "column_proportion(87)"
   ]
  },
  {
   "cell_type": "code",
   "execution_count": 22,
   "id": "5f884e23",
   "metadata": {},
   "outputs": [],
   "source": [
    "proportions = affiliation_counts.apply(column_proportion, \"count\")"
   ]
  },
  {
   "cell_type": "code",
   "execution_count": 23,
   "id": "72e77a04",
   "metadata": {},
   "outputs": [
    {
     "data": {
      "text/html": [
       "<table border=\"1\" class=\"dataframe\">\n",
       "    <thead>\n",
       "        <tr>\n",
       "            <th>Political Affiliation</th> <th>count</th> <th>Proportions</th>\n",
       "        </tr>\n",
       "    </thead>\n",
       "    <tbody>\n",
       "        <tr>\n",
       "            <td>DK/REF               </td> <td>31   </td> <td>0.1        </td>\n",
       "        </tr>\n",
       "        <tr>\n",
       "            <td>Democrat             </td> <td>87   </td> <td>0.28       </td>\n",
       "        </tr>\n",
       "        <tr>\n",
       "            <td>Independent          </td> <td>120  </td> <td>0.39       </td>\n",
       "        </tr>\n",
       "        <tr>\n",
       "            <td>Republican           </td> <td>72   </td> <td>0.23       </td>\n",
       "        </tr>\n",
       "    </tbody>\n",
       "</table>"
      ],
      "text/plain": [
       "Political Affiliation | count | Proportions\n",
       "DK/REF                | 31    | 0.1\n",
       "Democrat              | 87    | 0.28\n",
       "Independent           | 120   | 0.39\n",
       "Republican            | 72    | 0.23"
      ]
     },
     "execution_count": 23,
     "metadata": {},
     "output_type": "execute_result"
    }
   ],
   "source": [
    "affiliation_with_proportions = affiliation_counts.with_column(\"Proportions\", proportions)\n",
    "affiliation_with_proportions"
   ]
  },
  {
   "cell_type": "code",
   "execution_count": 24,
   "id": "178f5f3e",
   "metadata": {},
   "outputs": [
    {
     "data": {
      "text/html": [
       "<table border=\"1\" class=\"dataframe\">\n",
       "    <thead>\n",
       "        <tr>\n",
       "            <th>Age Range</th> <th>count</th>\n",
       "        </tr>\n",
       "    </thead>\n",
       "    <tbody>\n",
       "        <tr>\n",
       "            <td>18-24    </td> <td>9    </td>\n",
       "        </tr>\n",
       "        <tr>\n",
       "            <td>25-34    </td> <td>15   </td>\n",
       "        </tr>\n",
       "        <tr>\n",
       "            <td>35-44    </td> <td>41   </td>\n",
       "        </tr>\n",
       "        <tr>\n",
       "            <td>45-54    </td> <td>104  </td>\n",
       "        </tr>\n",
       "        <tr>\n",
       "            <td>55-64    </td> <td>100  </td>\n",
       "        </tr>\n",
       "        <tr>\n",
       "            <td>65+      </td> <td>41   </td>\n",
       "        </tr>\n",
       "    </tbody>\n",
       "</table>"
      ],
      "text/plain": [
       "Age Range | count\n",
       "18-24     | 9\n",
       "25-34     | 15\n",
       "35-44     | 41\n",
       "45-54     | 104\n",
       "55-64     | 100\n",
       "65+       | 41"
      ]
     },
     "execution_count": 24,
     "metadata": {},
     "output_type": "execute_result"
    }
   ],
   "source": [
    "cah.group('Age Range')"
   ]
  },
  {
   "cell_type": "code",
   "execution_count": 25,
   "id": "74218e40",
   "metadata": {},
   "outputs": [
    {
     "data": {
      "text/html": [
       "<table border=\"1\" class=\"dataframe\">\n",
       "    <thead>\n",
       "        <tr>\n",
       "            <th>Income</th> <th>Gender</th> <th>Age</th> <th>Age Range</th> <th>Political Affiliation</th> <th>Transformer Movies</th> <th>Level of Education</th> <th>Believe in Ghosts</th>\n",
       "        </tr>\n",
       "    </thead>\n",
       "    <tbody>\n",
       "        <tr>\n",
       "            <td>68000 </td> <td>Female</td> <td>56  </td> <td>55-64    </td> <td>Democrat             </td> <td>0                 </td> <td>High school       </td> <td>No               </td>\n",
       "        </tr>\n",
       "        <tr>\n",
       "            <td>46000 </td> <td>Male  </td> <td>63  </td> <td>55-64    </td> <td>Independent          </td> <td>0                 </td> <td>Some college      </td> <td>No               </td>\n",
       "        </tr>\n",
       "        <tr>\n",
       "            <td>51000 </td> <td>Male  </td> <td>48  </td> <td>45-54    </td> <td>Republican           </td> <td>0                 </td> <td>High school       </td> <td>No               </td>\n",
       "        </tr>\n",
       "        <tr>\n",
       "            <td>54000 </td> <td>Female</td> <td>64  </td> <td>55-64    </td> <td>Democrat             </td> <td>0                 </td> <td>Some college      </td> <td>No               </td>\n",
       "        </tr>\n",
       "        <tr>\n",
       "            <td>83000 </td> <td>Male  </td> <td>61  </td> <td>55-64    </td> <td>Independent          </td> <td>0                 </td> <td>College degree    </td> <td>Yes              </td>\n",
       "        </tr>\n",
       "    </tbody>\n",
       "</table>\n",
       "<p>... (305 rows omitted)</p>"
      ],
      "text/plain": [
       "<IPython.core.display.HTML object>"
      ]
     },
     "metadata": {},
     "output_type": "display_data"
    }
   ],
   "source": [
    "cah.show(5)"
   ]
  },
  {
   "cell_type": "code",
   "execution_count": 26,
   "id": "1598a628",
   "metadata": {
    "tags": []
   },
   "outputs": [
    {
     "data": {
      "text/html": [
       "<table border=\"1\" class=\"dataframe\">\n",
       "    <thead>\n",
       "        <tr>\n",
       "            <th>Age Range</th> <th>College degree</th> <th>Graduate degree</th> <th>High school</th> <th>Other</th> <th>Some college</th>\n",
       "        </tr>\n",
       "    </thead>\n",
       "    <tbody>\n",
       "        <tr>\n",
       "            <td>18-24    </td> <td>2             </td> <td>0              </td> <td>5          </td> <td>0    </td> <td>2           </td>\n",
       "        </tr>\n",
       "        <tr>\n",
       "            <td>25-34    </td> <td>7             </td> <td>2              </td> <td>3          </td> <td>0    </td> <td>3           </td>\n",
       "        </tr>\n",
       "        <tr>\n",
       "            <td>35-44    </td> <td>18            </td> <td>13             </td> <td>7          </td> <td>0    </td> <td>3           </td>\n",
       "        </tr>\n",
       "        <tr>\n",
       "            <td>45-54    </td> <td>34            </td> <td>30             </td> <td>12         </td> <td>3    </td> <td>25          </td>\n",
       "        </tr>\n",
       "        <tr>\n",
       "            <td>55-64    </td> <td>36            </td> <td>20             </td> <td>19         </td> <td>2    </td> <td>23          </td>\n",
       "        </tr>\n",
       "        <tr>\n",
       "            <td>65+      </td> <td>9             </td> <td>15             </td> <td>8          </td> <td>0    </td> <td>9           </td>\n",
       "        </tr>\n",
       "    </tbody>\n",
       "</table>"
      ],
      "text/plain": [
       "Age Range | College degree | Graduate degree | High school | Other | Some college\n",
       "18-24     | 2              | 0               | 5           | 0     | 2\n",
       "25-34     | 7              | 2               | 3           | 0     | 3\n",
       "35-44     | 18             | 13              | 7           | 0     | 3\n",
       "45-54     | 34             | 30              | 12          | 3     | 25\n",
       "55-64     | 36             | 20              | 19          | 2     | 23\n",
       "65+       | 9              | 15              | 8           | 0     | 9"
      ]
     },
     "execution_count": 26,
     "metadata": {},
     "output_type": "execute_result"
    }
   ],
   "source": [
    "cah.pivot('Level of Education', 'Age Range')"
   ]
  },
  {
   "cell_type": "code",
   "execution_count": 27,
   "id": "13a434f8",
   "metadata": {},
   "outputs": [
    {
     "data": {
      "text/plain": [
       "False"
      ]
     },
     "execution_count": 27,
     "metadata": {},
     "output_type": "execute_result"
    }
   ],
   "source": [
    "1 > 2"
   ]
  },
  {
   "cell_type": "code",
   "execution_count": 28,
   "id": "b0487434",
   "metadata": {},
   "outputs": [
    {
     "data": {
      "text/plain": [
       "True"
      ]
     },
     "execution_count": 28,
     "metadata": {},
     "output_type": "execute_result"
    }
   ],
   "source": [
    "1 < 2"
   ]
  },
  {
   "cell_type": "code",
   "execution_count": 29,
   "id": "40daf26d",
   "metadata": {},
   "outputs": [
    {
     "data": {
      "text/plain": [
       "True"
      ]
     },
     "execution_count": 29,
     "metadata": {},
     "output_type": "execute_result"
    }
   ],
   "source": [
    "1 == 1"
   ]
  },
  {
   "cell_type": "code",
   "execution_count": 30,
   "id": "53403018",
   "metadata": {},
   "outputs": [
    {
     "data": {
      "text/plain": [
       "True"
      ]
     },
     "execution_count": 30,
     "metadata": {},
     "output_type": "execute_result"
    }
   ],
   "source": [
    "1 != 2"
   ]
  },
  {
   "cell_type": "code",
   "execution_count": null,
   "id": "c0c0de72",
   "metadata": {},
   "outputs": [],
   "source": []
  }
 ],
 "metadata": {
  "kernelspec": {
   "display_name": "Python 3 (ipykernel)",
   "language": "python",
   "name": "python3"
  },
  "language_info": {
   "codemirror_mode": {
    "name": "ipython",
    "version": 3
   },
   "file_extension": ".py",
   "mimetype": "text/x-python",
   "name": "python",
   "nbconvert_exporter": "python",
   "pygments_lexer": "ipython3",
   "version": "3.10.9"
  }
 },
 "nbformat": 4,
 "nbformat_minor": 5
}
