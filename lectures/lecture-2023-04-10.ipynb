{
 "cells": [
  {
   "cell_type": "code",
   "execution_count": 1,
   "id": "5b64a4f5-9638-4161-ba97-d3ba8f44a731",
   "metadata": {
    "tags": []
   },
   "outputs": [],
   "source": [
    "import numpy as np\n",
    "from datascience import *"
   ]
  },
  {
   "cell_type": "code",
   "execution_count": 2,
   "id": "5a6f79b8-b41f-4698-ab90-336facea3418",
   "metadata": {
    "tags": []
   },
   "outputs": [],
   "source": [
    "cah = Table.read_table('201709-CAH_PulseOfTheNation.csv')"
   ]
  },
  {
   "cell_type": "code",
   "execution_count": 3,
   "id": "d4994728-46c8-4bf6-a136-d93bef4d52c6",
   "metadata": {
    "tags": []
   },
   "outputs": [
    {
     "data": {
      "text/html": [
       "<table border=\"1\" class=\"dataframe\">\n",
       "    <thead>\n",
       "        <tr>\n",
       "            <th>Income</th> <th>Gender</th> <th>Age</th> <th>Age Range</th> <th>Political Affiliation</th> <th>Transformer Movies</th> <th>Level of Education</th> <th>Believe in Ghosts</th>\n",
       "        </tr>\n",
       "    </thead>\n",
       "    <tbody>\n",
       "        <tr>\n",
       "            <td>68000 </td> <td>Female</td> <td>56  </td> <td>55-64    </td> <td>Democrat             </td> <td>0                 </td> <td>High school       </td> <td>No               </td>\n",
       "        </tr>\n",
       "        <tr>\n",
       "            <td>46000 </td> <td>Male  </td> <td>63  </td> <td>55-64    </td> <td>Independent          </td> <td>0                 </td> <td>Some college      </td> <td>No               </td>\n",
       "        </tr>\n",
       "        <tr>\n",
       "            <td>51000 </td> <td>Male  </td> <td>48  </td> <td>45-54    </td> <td>Republican           </td> <td>0                 </td> <td>High school       </td> <td>No               </td>\n",
       "        </tr>\n",
       "        <tr>\n",
       "            <td>54000 </td> <td>Female</td> <td>64  </td> <td>55-64    </td> <td>Democrat             </td> <td>0                 </td> <td>Some college      </td> <td>No               </td>\n",
       "        </tr>\n",
       "        <tr>\n",
       "            <td>83000 </td> <td>Male  </td> <td>61  </td> <td>55-64    </td> <td>Independent          </td> <td>0                 </td> <td>College degree    </td> <td>Yes              </td>\n",
       "        </tr>\n",
       "    </tbody>\n",
       "</table>\n",
       "<p>... (305 rows omitted)</p>"
      ],
      "text/plain": [
       "<IPython.core.display.HTML object>"
      ]
     },
     "metadata": {},
     "output_type": "display_data"
    }
   ],
   "source": [
    "cah.show(5)"
   ]
  },
  {
   "cell_type": "markdown",
   "id": "f30564f9-800e-406d-b42b-bf9139aedd08",
   "metadata": {},
   "source": [
    "## Question: What proportion of people in the population believe in ghosts?"
   ]
  },
  {
   "cell_type": "code",
   "execution_count": null,
   "id": "eb2d95c6-d0d4-4684-a388-d7fc9e93aa17",
   "metadata": {},
   "outputs": [],
   "source": []
  }
 ],
 "metadata": {
  "kernelspec": {
   "display_name": "Python 3 (ipykernel)",
   "language": "python",
   "name": "python3"
  },
  "language_info": {
   "codemirror_mode": {
    "name": "ipython",
    "version": 3
   },
   "file_extension": ".py",
   "mimetype": "text/x-python",
   "name": "python",
   "nbconvert_exporter": "python",
   "pygments_lexer": "ipython3",
   "version": "3.10.9"
  }
 },
 "nbformat": 4,
 "nbformat_minor": 5
}
