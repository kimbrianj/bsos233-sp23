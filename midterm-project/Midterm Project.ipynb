{
 "cells": [
  {
   "cell_type": "markdown",
   "metadata": {},
   "source": [
    "# Midterm Project: Data Analysis with Python\n",
    "\n",
    "This project is due by **11:59pm on April 4**."
   ]
  },
  {
   "cell_type": "markdown",
   "metadata": {},
   "source": [
    "So far in this class, we've started out by doing some data management, then started using numerical and graphical summaries to describe data. In this midterm project, you will need to combine all of that together to write up a report using the Cards Against Humanity Pulse of the Nation dataset, provided in `201709-CAH_PulseOfTheNation.csv`, or the Gapminder datasets that we used in Lab 5. In this project, you will **formulate a question** that can be answered by this dataset, then use **descriptive statistics and graphs** to answer that question. The question that you may ask is quite open-ended, but I've provided scenarios below to help you get started.\n",
    "\n",
    "## Formatting Guidelines\n",
    "\n",
    "**Write a report** that includes:\n",
    "- A clear description of the **question of interest** and the variables you are studying.\n",
    "- A description of the **data management steps** including adjustment of the categories in categorical variables, formatting of  variables, subsetting, joins, and more. \n",
    "- **Descriptive statistics** that help the reader understand the data better. \n",
    "- **Visualizations** better illustrate the relationships that you are trying to show.\n",
    "- A clear **conclusion** based on your analysis, including a clear **plan of action.**\n",
    "\n",
    "Write your report in a Jupyter Notebook (you can use the Project Template provided), formatting it so that the code is included with the text. You can include a title and section headings by using '#' symbols in Markdown formatting. **DO NOT use commenting or print to provide the text of the report.** You can use comments to make code clearer, but the report itself should contain text in Markdown cells. **Any text that is not in Markdown cells (either printed or in comments) will not be considered as part of the report narrative.** \n",
    "\n",
    "Remember, when formulating your research question, think about how it might be used. **You need to have a policy/action that you suggest at the end.** That is, any analysis is useless if you have no way of using it."
   ]
  },
  {
   "cell_type": "markdown",
   "metadata": {},
   "source": [
    "## Scenario 1: Public Opinion Research Company\n",
    "\n",
    "Pretend you are working for a public opinion research company, and you have been tasked with finding out characteristics about people based on their political party. In particular, the company wants to know how people from different political parties differ. \n",
    "\n",
    "You do not need to look at every single variable in the dataset! Choose **a few relevant variables (in addition to Political Affiliation)** to explore. You also don't need to use every single category within Political Affiliation (e.g., you can subset the data to just Democrats and Republicans). Make sure you have a reason for looking at the variables that you did, and motivate why you chose those variables in the introduction.\n",
    "\n",
    "Files used in this scenario:\n",
    "- 201709-CAH_PulseOfTheNation.csv"
   ]
  },
  {
   "cell_type": "markdown",
   "metadata": {},
   "source": [
    "## Scenario 2: Working for a Non-Profit\n",
    "\n",
    "Pretend you are working for a non-profit, and you have been tasked with using the [Gapminder Dataset](https://www.gapminder.org) to find out areas in which your organization can better provide aid to certain groups of people. In particular, they want you to identify a country that is in need of specific services or interventions based on their fertility/child mortality/life expectancy trends.\n",
    "\n",
    "You do not need to look at every single dataset and every single row! Choose **one country (or a few countries that are closely related) and a smaller range of years**. Make sure you have a reason for looking at the variables that you did, and motivate why you chose those variables in the introduction. \n",
    "\n",
    "Files possibly included in this scenario:\n",
    "- child_mortality.csv\n",
    "- country-regions.csv\n",
    "- fertility.csv\n",
    "- life-expectancy.csv\n",
    "- population.csv"
   ]
  },
  {
   "cell_type": "markdown",
   "metadata": {},
   "source": [
    "## Data Dictionary for the Pulse of the Nation Dataset\n",
    "\n",
    "|Variable|Question|\n",
    "|-|-|\n",
    "|Income|What is your income?|\n",
    "|Gender|What is your gender?|\n",
    "|Age|What is your age?|\n",
    "|Age Range|Converted from Age.|\n",
    "|Political Affiliation|What is your political affiliation?|\n",
    "|Trump|Do you approve or disapprove of how Donald Trump is handling his job as president?|\n",
    "|Education| What is your highest level of education?|\n",
    "|Race| What is your race?|\n",
    "|Marital| What is your marital status?|\n",
    "|Automation| What would you say is the likelihood that your current job will be entirely performed by robots or computers within the next decade?|\n",
    "|Climate Change| Do you believe that climate change is real and caused by people, real but not caused by people, or not real at all?|\n",
    "|Transformers Movies| How many Transformers movies have you seen? |\n",
    "|Scientists|Do you agree or disagree with the following statement: scientists are generally honest and are serving the public good. |\n",
    "|Vaccines|Do you agree or disagree with the following statement: vaccines are safe and protect children from disease.|\n",
    "|Books|How many books, if any, have you read in the past year?|\n",
    "|Ghosts|Do you believe in ghosts?|\n",
    "|Scientific Research| What percentage of the federal budget would you estimate is spent on scientific research?|\n",
    "|Federal Funding of Scientific Research| Is federal funding of scientific research too high, too low, or about right?|\n",
    "|Earth and Sun|True or false: the earth is always farther away from the sun in the winter than in the summer.|\n",
    "|Smart or Dumb| If you had to choose: would you rather be smart and sad, or dumb and happy?|\n",
    "|Shower| Do you think it is acceptable or unacceptable to urinate in the shower?|"
   ]
  },
  {
   "cell_type": "code",
   "execution_count": null,
   "metadata": {},
   "outputs": [],
   "source": []
  }
 ],
 "metadata": {
  "kernelspec": {
   "display_name": "Python 3 (ipykernel)",
   "language": "python",
   "name": "python3"
  },
  "language_info": {
   "codemirror_mode": {
    "name": "ipython",
    "version": 3
   },
   "file_extension": ".py",
   "mimetype": "text/x-python",
   "name": "python",
   "nbconvert_exporter": "python",
   "pygments_lexer": "ipython3",
   "version": "3.10.9"
  },
  "toc": {
   "base_numbering": 1,
   "nav_menu": {},
   "number_sections": true,
   "sideBar": true,
   "skip_h1_title": false,
   "title_cell": "Table of Contents",
   "title_sidebar": "Contents",
   "toc_cell": false,
   "toc_position": {},
   "toc_section_display": true,
   "toc_window_display": false
  }
 },
 "nbformat": 4,
 "nbformat_minor": 4
}
