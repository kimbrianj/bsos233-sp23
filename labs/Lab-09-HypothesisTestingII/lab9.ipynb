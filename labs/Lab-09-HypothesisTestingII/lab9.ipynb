{
 "cells": [
  {
   "cell_type": "markdown",
   "metadata": {},
   "source": [
    "## Lab 9: Babies\n",
    "\n",
    "Please complete this lab by providing answers in cells after the question. Use **Code** cells to write and run any code you need to answer the question and **Markdown** cells to write out answers in words. After you are finished with the assignment, remember to download it as an **HTML file** and submit it in **ELMS**."
   ]
  },
  {
   "cell_type": "code",
   "execution_count": null,
   "metadata": {},
   "outputs": [],
   "source": [
    "# These lines import the Numpy and Datascience modules.\n",
    "import numpy as np\n",
    "from datascience import *\n",
    "\n",
    "# These lines do some fancy plotting magic\n",
    "import matplotlib\n",
    "%matplotlib inline\n",
    "import matplotlib.pyplot as plt\n",
    "plt.style.use('fivethirtyeight')"
   ]
  },
  {
   "cell_type": "markdown",
   "metadata": {},
   "source": [
    "In this lab, we will look at a dataset of a sample of newborns in a large hospital system. We will treat it as if it were a simple random sample though the sampling was done in multiple stages. The table `births` contains the following variables for 1,174 mother-baby pairs: the baby’s birth weight in ounces, the number of gestational days, the mother’s age in completed years, the mother’s height in inches, pregnancy weight in pounds, and whether or not the mother smoked during pregnancy.\n",
    "\n",
    "The key question we want to answer is whether maternal smoking is associated with lower birthweights of babies. "
   ]
  },
  {
   "cell_type": "code",
   "execution_count": null,
   "metadata": {},
   "outputs": [],
   "source": [
    "births = Table.read_table('baby.csv')\n",
    "births.show(5)"
   ]
  },
  {
   "cell_type": "markdown",
   "metadata": {},
   "source": [
    "Let's first take a look at the dataset. We'll focus on the Birth Weight and Maternal Smoker variables since that is what we want to know more about."
   ]
  },
  {
   "cell_type": "markdown",
   "metadata": {},
   "source": [
    "<font color = 'red'>**Question 1: Find the mean and standard deviation of `Birth Weight` by the `Maternal Smoker` status. That is, find the mean and standard deviation of `Birth Weight` for nonsmoking mothers and the mean and standard deviation for smoking mothers.**</font>\n",
    "\n",
    "First, select just the variables we want to look at and assign that to `smoking_and_birthweight`. Then, use `.group()` to get the summaries."
   ]
  },
  {
   "cell_type": "code",
   "execution_count": null,
   "metadata": {},
   "outputs": [],
   "source": [
    "smoking_and_birthweight = ...\n",
    "\n",
    "..."
   ]
  },
  {
   "cell_type": "markdown",
   "metadata": {},
   "source": [
    "<font color = 'red'>**Question 2: Create a histogram of `Birth Weight` broken down by `Maternal Smoker` on the same graph. There should be two colors used in the histogram.**</font>\n",
    "\n",
    "*Hint:* You can use the `group` argument with `.hist()`."
   ]
  },
  {
   "cell_type": "code",
   "execution_count": null,
   "metadata": {},
   "outputs": [],
   "source": [
    "\n",
    "\n",
    "\n"
   ]
  },
  {
   "cell_type": "markdown",
   "metadata": {},
   "source": [
    "<font color = 'red'>**Question 3: Describe the  relationship between birth weight and maternal smoker status based on the graph above.**</font>"
   ]
  },
  {
   "cell_type": "markdown",
   "metadata": {},
   "source": []
  },
  {
   "cell_type": "markdown",
   "metadata": {},
   "source": [
    "## Hypothesis Testing with Data\n",
    "\n",
    "This raises the question of whether the difference reflects just chance variation or a difference in the distributions in the larger population. Could it be that there is no difference between the two distributions in the population, but we are seeing a difference in the samples just because of the mothers who happened to be selected? To answer this question, we will perform a hypothesis test using an alpha level of 0.05. \n",
    "\n",
    "Remember, we are mainly interested in whether maternal smoking is associated with **lower** birthweights of babies. "
   ]
  },
  {
   "cell_type": "markdown",
   "metadata": {},
   "source": [
    "<font color = 'red'>**Question 4: What is the null hypothesis? What is the alternative hypothesis?**</font>"
   ]
  },
  {
   "cell_type": "markdown",
   "metadata": {},
   "source": [
    "*Replace this text with your answer.*\n",
    "\n"
   ]
  },
  {
   "cell_type": "markdown",
   "metadata": {},
   "source": [
    "<font color = 'red'>**Question 5: What is the statistic we want to calculate to perform the hypothesis test? Calculate the observed value of this statistic for our data.**</font>\n",
    "\n",
    "*Hint:* Remember, we want to compare the means of the two groups. Make sure the statistic you calculate is consistent with the alternative hypothesis that we are testing!"
   ]
  },
  {
   "cell_type": "code",
   "execution_count": null,
   "metadata": {},
   "outputs": [],
   "source": [
    "\n",
    "\n"
   ]
  },
  {
   "cell_type": "markdown",
   "metadata": {},
   "source": [
    "<font color = 'red'>**Question 6: Define the function `statistic` which takes in a Table as an argument and returns the value of a statistic. Check to make sure the function works by using the `smoking_and_birthweight` table and make sure it provides one value of the statistic as the output. Assign the observed value of the statistic that you just calculated using the function to `observed_statistic`.**</font>"
   ]
  },
  {
   "cell_type": "code",
   "execution_count": null,
   "metadata": {},
   "outputs": [],
   "source": [
    "def statistic(births_table):\n",
    "    '''\n",
    "    Arguments:\n",
    "    births_table, Table: A table that looks like the births Table.\n",
    "    \n",
    "    Returns:\n",
    "    A statistic that compares the means of the two groups.\n",
    "    '''\n",
    "    ...\n",
    "    return ...\n",
    "\n",
    "observed_statistic = statistic(smoking_and_birthweight)\n",
    "observed_statistic"
   ]
  },
  {
   "cell_type": "markdown",
   "metadata": {},
   "source": [
    "If there were no difference between the two distributions in the underlying population, then whether a birth weight has the label True or False with respect to maternal smoking should make no difference to the average. The idea, then, is to shuffle all the labels randomly among the mothers. This is called random permutation.\n",
    "\n",
    "Shuffling ensures that the count of True labels does not change, and nor does the count of False labels. This is important for the comparability of the simulated and original statistics."
   ]
  },
  {
   "cell_type": "markdown",
   "metadata": {},
   "source": [
    "<font color = 'red'>**Question 7: Shuffle the `smoking_and_birthweight` table and assign the shuffled table to `shuffled_smoker`. Take the `Maternal Smoker` column from that shuffled table. Create a new table called `simulated_smoker` that contains the original `Birth Weight` variable as well as the new shuffled `Maternal Smoker` variable.**</font>"
   ]
  },
  {
   "cell_type": "code",
   "execution_count": null,
   "metadata": {},
   "outputs": [],
   "source": [
    "shuffled_smoker = ...\n",
    "simulated_smoker = Table().with_columns(\"Birth Weight\", ...,\n",
    "                                        \"Maternal Smoker\", ...)"
   ]
  },
  {
   "cell_type": "markdown",
   "metadata": {},
   "source": [
    "<font color = 'red'>**Question 8: Calculate the statistic we decided on for the simulated Table. Make sure this value is different from the observed value. If it is not, then there is something wrong with how you defined the `statistic` function!**</font>"
   ]
  },
  {
   "cell_type": "code",
   "execution_count": null,
   "metadata": {},
   "outputs": [],
   "source": []
  },
  {
   "cell_type": "markdown",
   "metadata": {},
   "source": [
    "This is one simulation and one statistic from that simulation. Now, we want to see what the distribution of statistics would be like under the null hypothesis. To do this, we define a function and use a loop to simulate many times and get many statistics."
   ]
  },
  {
   "cell_type": "markdown",
   "metadata": {},
   "source": [
    "<font color = 'red'>**Question 9: Let's now see what the distribution of statistics is actually like under the null hypothesis.**</font>\n",
    "\n",
    "Define the function `simulation_and_statistic` that shuffles the table, calculates the statistic, and returns the statistic. Then, create an array called `simulated_statistics` and use a loop to generate 1000 simulated statistics. \n"
   ]
  },
  {
   "cell_type": "code",
   "execution_count": null,
   "metadata": {
    "for_assignment_type": "student",
    "scrolled": true
   },
   "outputs": [],
   "source": [
    "def simulation_and_statistic():\n",
    "    '''\n",
    "    Simulates shuffling the smoking_and_birthweight table and calculating the statistics.\n",
    "    \n",
    "    Returns one statistic.\n",
    "    '''\n",
    "    ...\n",
    "    return ...\n",
    "\n",
    "num_repetitions = 1000\n",
    "\n",
    "simulated_statistics = ...\n",
    "\n",
    "for ... in ...:\n",
    "    ...\n"
   ]
  },
  {
   "cell_type": "markdown",
   "metadata": {},
   "source": []
  },
  {
   "cell_type": "markdown",
   "metadata": {},
   "source": [
    "<font color = 'red'>**Question 10: Create a histogram of the simulated statistic and add a red dot representing the observed statistic.**</font>\n",
    "\n",
    "*Hint:* You can add the red dot using `plt.scatter(observed_statistic, 0, color='red', s=30);`"
   ]
  },
  {
   "cell_type": "code",
   "execution_count": null,
   "metadata": {},
   "outputs": [],
   "source": []
  },
  {
   "cell_type": "markdown",
   "metadata": {},
   "source": [
    "<font color = 'red'>**Question 11: Calculate the probability that we get the observed statistic from our dataset if our null hypothesis actually were true. That is, what proportion of the time did our simulation result in a value as extreme or more extreme than our observed statistic?**</font>\n",
    "\n",
    "*Hint:* Think about how you set up the alternative hypothesis and what you used for your statistic.\n",
    "\n",
    "This represents the **p-value**. To make your conclusion, you would need to compare this value to the alpha level of 0.05."
   ]
  },
  {
   "cell_type": "code",
   "execution_count": null,
   "metadata": {},
   "outputs": [],
   "source": []
  },
  {
   "cell_type": "markdown",
   "metadata": {},
   "source": [
    "<font color = 'red'>**Question 12: What is your conclusion? Do you reject or fail to reject the null hypothesis? What does this mean?**</font>"
   ]
  },
  {
   "cell_type": "markdown",
   "metadata": {},
   "source": []
  }
 ],
 "metadata": {
  "kernelspec": {
   "display_name": "Python 3 (ipykernel)",
   "language": "python",
   "name": "python3"
  },
  "language_info": {
   "codemirror_mode": {
    "name": "ipython",
    "version": 3
   },
   "file_extension": ".py",
   "mimetype": "text/x-python",
   "name": "python",
   "nbconvert_exporter": "python",
   "pygments_lexer": "ipython3",
   "version": "3.10.9"
  }
 },
 "nbformat": 4,
 "nbformat_minor": 4
}
