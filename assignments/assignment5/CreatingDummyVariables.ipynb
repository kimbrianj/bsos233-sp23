{
 "cells": [
  {
   "cell_type": "code",
   "execution_count": 2,
   "id": "611fe592-1f5f-451e-b46b-1ea7e51e8854",
   "metadata": {},
   "outputs": [],
   "source": [
    "import numpy as np\n",
    "from datascience import *\n",
    "\n",
    "# These lines do some fancy plotting magic.\n",
    "import matplotlib\n",
    "%matplotlib inline\n",
    "import matplotlib.pyplot as plt\n",
    "\n",
    "from sklearn.tree import DecisionTreeClassifier\n",
    "from sklearn.neighbors import KNeighborsClassifier\n",
    "\n",
    "from sklearn.metrics import confusion_matrix\n",
    "from sklearn.metrics import accuracy_score, precision_score, recall_score"
   ]
  },
  {
   "cell_type": "code",
   "execution_count": 3,
   "id": "98faf6ec-75f4-47ae-9459-5c5f8faf3eb2",
   "metadata": {},
   "outputs": [],
   "source": [
    "ncbirths = Table.read_table('ncbirths.csv')"
   ]
  },
  {
   "cell_type": "markdown",
   "id": "904f826f-7614-42ac-9534-d50fd1b1df4e",
   "metadata": {},
   "source": [
    "Example of changing three variables into \"dummy\" variables that are 0/1 variables instead of categories.\n",
    "\n",
    "We first add a few columns of variables that are True/False values by using `.column` to pull out specific columns as arrays and comparing them to a value within the array. This gives us an array that we can add back into the table as a column using `.with_columns`. So, for example, `ncbirths.column('whitemom') == 'white'` is an array that we are adding back into the original dataset. This array is True if `whitemom` is `white` and False otherwise.\n",
    "\n",
    "The same is done for two other variables, `mature` and `marital`. In these two cases, it is True if it is a `younger mom` or `married`, respectively."
   ]
  },
  {
   "cell_type": "code",
   "execution_count": 4,
   "id": "cf9e41eb-02a8-44e4-92af-1d63d753b479",
   "metadata": {
    "tags": []
   },
   "outputs": [
    {
     "data": {
      "text/html": [
       "<table border=\"1\" class=\"dataframe\">\n",
       "    <thead>\n",
       "        <tr>\n",
       "            <th>mage</th> <th>mature</th> <th>weeks</th> <th>premie</th> <th>visits</th> <th>marital</th> <th>gained</th> <th>weight</th> <th>lowbirthweight</th> <th>gender</th> <th>habit</th> <th>whitemom</th> <th>white</th> <th>youngmom</th> <th>married</th>\n",
       "        </tr>\n",
       "    </thead>\n",
       "    <tbody>\n",
       "        <tr>\n",
       "            <td>13  </td> <td>younger mom</td> <td>39   </td> <td>full term</td> <td>10    </td> <td>married</td> <td>38    </td> <td>7.63  </td> <td>not low       </td> <td>male  </td> <td>nonsmoker</td> <td>not white</td> <td>False</td> <td>True    </td> <td>True   </td>\n",
       "        </tr>\n",
       "        <tr>\n",
       "            <td>14  </td> <td>younger mom</td> <td>42   </td> <td>full term</td> <td>15    </td> <td>married</td> <td>20    </td> <td>7.88  </td> <td>not low       </td> <td>male  </td> <td>nonsmoker</td> <td>not white</td> <td>False</td> <td>True    </td> <td>True   </td>\n",
       "        </tr>\n",
       "        <tr>\n",
       "            <td>15  </td> <td>younger mom</td> <td>37   </td> <td>full term</td> <td>11    </td> <td>married</td> <td>38    </td> <td>6.63  </td> <td>not low       </td> <td>female</td> <td>nonsmoker</td> <td>white    </td> <td>True </td> <td>True    </td> <td>True   </td>\n",
       "        </tr>\n",
       "        <tr>\n",
       "            <td>15  </td> <td>younger mom</td> <td>41   </td> <td>full term</td> <td>6     </td> <td>married</td> <td>34    </td> <td>8     </td> <td>not low       </td> <td>male  </td> <td>nonsmoker</td> <td>white    </td> <td>True </td> <td>True    </td> <td>True   </td>\n",
       "        </tr>\n",
       "        <tr>\n",
       "            <td>15  </td> <td>younger mom</td> <td>39   </td> <td>full term</td> <td>9     </td> <td>married</td> <td>27    </td> <td>6.38  </td> <td>not low       </td> <td>female</td> <td>nonsmoker</td> <td>not white</td> <td>False</td> <td>True    </td> <td>True   </td>\n",
       "        </tr>\n",
       "    </tbody>\n",
       "</table>\n",
       "<p>... (959 rows omitted)</p>"
      ],
      "text/plain": [
       "<IPython.core.display.HTML object>"
      ]
     },
     "metadata": {},
     "output_type": "display_data"
    }
   ],
   "source": [
    "ncbirths_dummy = ncbirths.with_columns('white', ncbirths.column('whitemom') == 'white',\n",
    "                                       'youngmom', ncbirths.column('mature') == 'younger mom',\n",
    "                                       'married', ncbirths.column('marital') == 'married') \n",
    "\n",
    "\n",
    "ncbirths_dummy.show(5)"
   ]
  },
  {
   "cell_type": "markdown",
   "id": "2fc20a25-acd3-419a-a563-04439dd4c966",
   "metadata": {},
   "source": [
    "We then drop the original variables. Note that this is also possible with variables that have more than 2 categories. "
   ]
  },
  {
   "cell_type": "code",
   "execution_count": 5,
   "id": "c9596642-a178-4465-9b24-1c3800f08ae6",
   "metadata": {
    "tags": []
   },
   "outputs": [],
   "source": [
    "ncbirths_cleaner = ncbirths_dummy.drop('whitemom', 'mature', 'marital')"
   ]
  },
  {
   "cell_type": "code",
   "execution_count": 6,
   "id": "2b23754c-f5cd-42e3-8fb4-0d6dda3f3b5f",
   "metadata": {
    "tags": []
   },
   "outputs": [
    {
     "data": {
      "text/html": [
       "<table border=\"1\" class=\"dataframe\">\n",
       "    <thead>\n",
       "        <tr>\n",
       "            <th>mage</th> <th>weeks</th> <th>premie</th> <th>visits</th> <th>gained</th> <th>weight</th> <th>lowbirthweight</th> <th>gender</th> <th>habit</th> <th>white</th> <th>youngmom</th> <th>married</th>\n",
       "        </tr>\n",
       "    </thead>\n",
       "    <tbody>\n",
       "        <tr>\n",
       "            <td>13  </td> <td>39   </td> <td>full term</td> <td>10    </td> <td>38    </td> <td>7.63  </td> <td>not low       </td> <td>male  </td> <td>nonsmoker</td> <td>False</td> <td>True    </td> <td>True   </td>\n",
       "        </tr>\n",
       "        <tr>\n",
       "            <td>14  </td> <td>42   </td> <td>full term</td> <td>15    </td> <td>20    </td> <td>7.88  </td> <td>not low       </td> <td>male  </td> <td>nonsmoker</td> <td>False</td> <td>True    </td> <td>True   </td>\n",
       "        </tr>\n",
       "        <tr>\n",
       "            <td>15  </td> <td>37   </td> <td>full term</td> <td>11    </td> <td>38    </td> <td>6.63  </td> <td>not low       </td> <td>female</td> <td>nonsmoker</td> <td>True </td> <td>True    </td> <td>True   </td>\n",
       "        </tr>\n",
       "        <tr>\n",
       "            <td>15  </td> <td>41   </td> <td>full term</td> <td>6     </td> <td>34    </td> <td>8     </td> <td>not low       </td> <td>male  </td> <td>nonsmoker</td> <td>True </td> <td>True    </td> <td>True   </td>\n",
       "        </tr>\n",
       "        <tr>\n",
       "            <td>15  </td> <td>39   </td> <td>full term</td> <td>9     </td> <td>27    </td> <td>6.38  </td> <td>not low       </td> <td>female</td> <td>nonsmoker</td> <td>False</td> <td>True    </td> <td>True   </td>\n",
       "        </tr>\n",
       "    </tbody>\n",
       "</table>\n",
       "<p>... (959 rows omitted)</p>"
      ],
      "text/plain": [
       "<IPython.core.display.HTML object>"
      ]
     },
     "metadata": {},
     "output_type": "display_data"
    }
   ],
   "source": [
    "ncbirths_cleaner.show(5)"
   ]
  },
  {
   "cell_type": "markdown",
   "id": "b2d51c32-3a0b-4b76-9ea6-ef8bafa752e1",
   "metadata": {},
   "source": [
    "Make sure you do it for the rest! This is just some of the variables."
   ]
  },
  {
   "cell_type": "code",
   "execution_count": null,
   "id": "96c7d2f9-d978-400b-a906-fbea884771f5",
   "metadata": {},
   "outputs": [],
   "source": []
  }
 ],
 "metadata": {
  "kernelspec": {
   "display_name": "Python 3 (ipykernel)",
   "language": "python",
   "name": "python3"
  },
  "language_info": {
   "codemirror_mode": {
    "name": "ipython",
    "version": 3
   },
   "file_extension": ".py",
   "mimetype": "text/x-python",
   "name": "python",
   "nbconvert_exporter": "python",
   "pygments_lexer": "ipython3",
   "version": "3.10.9"
  }
 },
 "nbformat": 4,
 "nbformat_minor": 5
}
