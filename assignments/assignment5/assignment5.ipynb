{
 "cells": [
  {
   "cell_type": "markdown",
   "metadata": {},
   "source": [
    "# Assignment 5: Classification\n",
    "\n",
    "This assignment covers **Chapters 17-18** from the textbook as well as lecture material from Weeks 12-13. Please complete this assignment by providing answers in cells after the question. Use **Code** cells to write and run any code you need to answer the question and **Markdown** cells to write out answers in words. After you are finished with the assignment, remember to download it as an **HTML file** and submit it in **ELMS**."
   ]
  },
  {
   "cell_type": "code",
   "execution_count": 3,
   "metadata": {},
   "outputs": [],
   "source": [
    "import numpy as np\n",
    "from datascience import *\n",
    "\n",
    "# These lines do some fancy plotting magic.\n",
    "import matplotlib\n",
    "%matplotlib inline\n",
    "import matplotlib.pyplot as plt\n",
    "\n",
    "from sklearn.tree import DecisionTreeClassifier\n",
    "from sklearn.neighbors import KNeighborsClassifier\n",
    "\n",
    "from sklearn.metrics import confusion_matrix\n",
    "from sklearn.metrics import precision_score, recall_score"
   ]
  },
  {
   "cell_type": "markdown",
   "metadata": {},
   "source": [
    "### Question 1. Predicting Baby Low Birthweight Status\n",
    "\n",
    "In this question, we will use machine learning to try to predict whether a baby will have low birthweight status. To do this, we will use the `ncbirths` dataset."
   ]
  },
  {
   "cell_type": "code",
   "execution_count": 4,
   "metadata": {},
   "outputs": [],
   "source": [
    "ncbirths = Table.read_table('ncbirths.csv')"
   ]
  },
  {
   "cell_type": "code",
   "execution_count": 5,
   "metadata": {},
   "outputs": [
    {
     "data": {
      "text/html": [
       "<table border=\"1\" class=\"dataframe\">\n",
       "    <thead>\n",
       "        <tr>\n",
       "            <th>mage</th> <th>mature</th> <th>weeks</th> <th>premie</th> <th>visits</th> <th>marital</th> <th>gained</th> <th>weight</th> <th>lowbirthweight</th> <th>gender</th> <th>habit</th> <th>whitemom</th>\n",
       "        </tr>\n",
       "    </thead>\n",
       "    <tbody>\n",
       "        <tr>\n",
       "            <td>13  </td> <td>younger mom</td> <td>39   </td> <td>full term</td> <td>10    </td> <td>married</td> <td>38    </td> <td>7.63  </td> <td>not low       </td> <td>male  </td> <td>nonsmoker</td> <td>not white</td>\n",
       "        </tr>\n",
       "        <tr>\n",
       "            <td>14  </td> <td>younger mom</td> <td>42   </td> <td>full term</td> <td>15    </td> <td>married</td> <td>20    </td> <td>7.88  </td> <td>not low       </td> <td>male  </td> <td>nonsmoker</td> <td>not white</td>\n",
       "        </tr>\n",
       "        <tr>\n",
       "            <td>15  </td> <td>younger mom</td> <td>37   </td> <td>full term</td> <td>11    </td> <td>married</td> <td>38    </td> <td>6.63  </td> <td>not low       </td> <td>female</td> <td>nonsmoker</td> <td>white    </td>\n",
       "        </tr>\n",
       "    </tbody>\n",
       "</table>\n",
       "<p>... (961 rows omitted)</p>"
      ],
      "text/plain": [
       "<IPython.core.display.HTML object>"
      ]
     },
     "metadata": {},
     "output_type": "display_data"
    }
   ],
   "source": [
    "ncbirths.show(3)"
   ]
  },
  {
   "cell_type": "markdown",
   "metadata": {},
   "source": [
    "We will try to use all of the variables provided in this dataset (besides `weight`) to try to predict the outcome, `lowbirthweight`."
   ]
  },
  {
   "cell_type": "markdown",
   "metadata": {},
   "source": [
    "**a)** Clean the dataset by changing any categorical variables into dummy variables with 0 and 1 values. Assign the cleaned dataset to the name `ncbirths_clean`. "
   ]
  },
  {
   "cell_type": "markdown",
   "metadata": {},
   "source": [
    "**b)** Create two Tables, one called `test` and one called `train`. The `test` table should contain a random 20% of the data, while the `train` Table should contain the other 80%."
   ]
  },
  {
   "cell_type": "markdown",
   "metadata": {},
   "source": [
    "**c)** Fit a K-Nearest Neighbors model using k = 5, 9, 15, 19, and 25. Find the predicted scores for the test for each of these and use a threshold score of 0.1, 0.3, 0.5, 0.7, and 0.9 to find the accuracy on the test for all of these models. You should end up with a Table that has every combination of the above k and threshold values, and the accuracy associated with that combination. Which model and threshold performed the best?\n",
    "\n",
    "**Hint:** You can use a loop within a loop instead of manually trying all of the k values and threshold values. Loop through an array of k values and as well as an array of threshold values. You should have an accuracy for each combination of k and threshold values at the end.  "
   ]
  },
  {
   "cell_type": "markdown",
   "metadata": {},
   "source": [
    "**d)** Fit a Decision Tree model using `max_depth` = 2, 3, 4, and 5. Find the predicted scores for the test for each of these, and use a threshold score of 0.1, 0.3, 0.5, 0.7, and 0.9 to find the accuracy on the test for all of these models. You should end up with a Table that has every combination of max depth and threshold values, and the accuracy associated with that combination. Which model and threshold performed the best?\n",
    "\n",
    "**Hint:** This should be very similar to part c except with a different model."
   ]
  },
  {
   "cell_type": "markdown",
   "metadata": {},
   "source": [
    "**e)** Suppose researchers are trying to predict low birthweight babies so that they can be better prepared for providing aid. Based on this information, which do you think would be more important to use as the performance metric: **precision** or **recall**?"
   ]
  },
  {
   "cell_type": "markdown",
   "metadata": {},
   "source": [
    "**f)** Determine the best model and best threshold by doing the same process in parts c and d with the measure you determined in part e. What is the overall accuracy for that model and threshold?"
   ]
  }
 ],
 "metadata": {
  "kernelspec": {
   "display_name": "Python 3 (ipykernel)",
   "language": "python",
   "name": "python3"
  },
  "language_info": {
   "codemirror_mode": {
    "name": "ipython",
    "version": 3
   },
   "file_extension": ".py",
   "mimetype": "text/x-python",
   "name": "python",
   "nbconvert_exporter": "python",
   "pygments_lexer": "ipython3",
   "version": "3.10.9"
  }
 },
 "nbformat": 4,
 "nbformat_minor": 4
}
