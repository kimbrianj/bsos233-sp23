{
 "cells": [
  {
   "cell_type": "markdown",
   "metadata": {},
   "source": [
    "# Project Template: The Title of the Final Project\n",
    "\n",
    "## Introduction\n",
    "\n",
    "An introduction to the problem would go here. Motivate the problem. Why is this of interest?\n",
    "\n",
    "Include 1-2 paragraphs here. **REMEMBER TO REMOVE ANY TEXT IF USING THIS AS YOUR TEMPLATE**."
   ]
  },
  {
   "cell_type": "markdown",
   "metadata": {},
   "source": [
    "## Data Description\n",
    "\n",
    "You might use some data descriptives here. The data should be clear to anyone who has not looked at the dataset. For example, make sure you indicate how many people there are, how many people in different groups if that is important for your project, and summary statistics of the variables you are looking at.\n",
    "\n",
    "Include an initial paragraph before showing any graphs or tables. Include at least a few sentences describing each table and graph that you show.\n",
    "\n",
    "**REMEMBER TO REMOVE ANY TEXT IF USING THIS AS YOUR TEMPLATE**."
   ]
  },
  {
   "cell_type": "markdown",
   "metadata": {},
   "source": [
    "## Inference: Hypothesis Test or Confidence Interval\n",
    "\n",
    "Use 1-2 paragraphs to describe the inference that you are doing in this section. You may end up doing multiple tests or confidence intervals. Make sure you explain why you are using the method that you chose. **REMEMBER TO REMOVE ANY TEXT IF USING THIS AS YOUR TEMPLATE**."
   ]
  },
  {
   "cell_type": "markdown",
   "metadata": {},
   "source": [
    "## Prediction\n",
    "\n",
    "Use 1-2 paragraphs to describe how you are approaching the prediction problem. This includes which category you are designating as the \"positive\" case.\n",
    "\n",
    "Use 1-2 paragraphs to describe the model-building process, including any assessment of how appropriate the model is, using graphs if necessary. Make sure you clearly identify which final model you decide to use, as well as the associated performance metric that you used to identify it.\n",
    "\n",
    "**REMEMBER TO REMOVE ANY TEXT IF USING THIS AS YOUR TEMPLATE**."
   ]
  },
  {
   "cell_type": "markdown",
   "metadata": {},
   "source": [
    "## Conclusion\n",
    "\n",
    "Concluding remarks go here. Include 1-2 paragraphs in this section. Make sure you tie it back in with your problem of interest from the introduction! Why are the results you found important? How can you apply this in the real world?\n",
    "\n",
    "**REMEMBER TO REMOVE ANY TEXT IF USING THIS AS YOUR TEMPLATE**."
   ]
  }
 ],
 "metadata": {
  "kernelspec": {
   "display_name": "Python 3 (ipykernel)",
   "language": "python",
   "name": "python3"
  },
  "language_info": {
   "codemirror_mode": {
    "name": "ipython",
    "version": 3
   },
   "file_extension": ".py",
   "mimetype": "text/x-python",
   "name": "python",
   "nbconvert_exporter": "python",
   "pygments_lexer": "ipython3",
   "version": "3.10.9"
  },
  "toc": {
   "base_numbering": 1,
   "nav_menu": {},
   "number_sections": true,
   "sideBar": true,
   "skip_h1_title": false,
   "title_cell": "Table of Contents",
   "title_sidebar": "Contents",
   "toc_cell": false,
   "toc_position": {},
   "toc_section_display": true,
   "toc_window_display": false
  }
 },
 "nbformat": 4,
 "nbformat_minor": 4
}
