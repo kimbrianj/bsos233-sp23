{
 "cells": [
  {
   "cell_type": "markdown",
   "metadata": {},
   "source": [
    "# Final Project: Inference and Prediction"
   ]
  },
  {
   "cell_type": "markdown",
   "metadata": {},
   "source": [
    "## Problem of Interest\n",
    "\n",
    "Pretend you are working for a consulting company which has been charged with finding the best way to **increase support for ranked choice voting** in the United States. As part of this project, you have been tasked with analyzing some survey data in order to determine the **types of people who do and do not support ranked choice voting** already, then to come up with a way to **identify who the company should try to reach with their education and advertisement campaigns**. \n",
    "\n",
    "The questions you should answer in this report are:\n",
    "1) **Who supports ranked choice voting currently?**\n",
    "2) **How can we predict people who might not support ranked choice voting so that we can have better targetted education and advertisement campaigns?**\n",
    "\n",
    "You have some freedom of which variables to analyze for this scenario, but make sure it is related to this primary goal and that there is a concrete plan of action that you recommend at the end.  Write a report **describing the problem of interest**, using **descriptive statistics** to learn more about the data, running a **prediction** analysis, and **recommending a plan of action** based on the results of your analyses."
   ]
  },
  {
   "cell_type": "markdown",
   "metadata": {},
   "source": [
    "## Data\n",
    "\n",
    "You have been given a dataset of another wave of the Pulse of the Nation survey, this time collected in August 2018. This is available in the `201808-CAH_PulseOfTheNation.csv` file. This survey contains some different questions compared to the dataset we have worked with in this class so far. The variable names and the question associated with each one is provided at the end of this document. Many of the variable names make it easy to see what the question was, but it might be harder to determine for others, so make sure you read through it carefully! \n",
    "\n",
    "## Project Guidelines\n",
    "\n",
    "In your report, you must include:\n",
    "- A clear description of the **question of interest** and the variables you are studying.\n",
    "- **Descriptive statistics and visualizations** that help the reader understand the data better.\n",
    "- At least one **hypothesis test or bootstrap confidence interval**. \n",
    "- A **prediction** component using machine learning.\n",
    "- A clear **conclusion** based on your analysis, including a clear **plan of action.**\n",
    "\n",
    "Make sure you have a reason for looking at the variables that you did, and motivate why you chose those variables in the introduction. Write your report in a separate Jupyter Notebook, formatting it so that the code is included with the text. Make sure to include a title and section headings by using '#' symbols in Markdown formatting.\n",
    "\n",
    "### Introduction\n",
    "\n",
    "You should start the project with a short description of the **problem of interest**. The basics of this has been provided for you, but make sure you state it clearly in your own words and specific to the variables that you will be looking at. For example, if your hypothesis test or confidence interval will look at race and support of ranked choice voting, make sure you state why you want to look at those variables in particular. In addition, make it clear why you are using prediction for the second question.\n",
    "\n",
    "### Descriptive Statistics\n",
    "\n",
    "You must describe the key variables in your project. Your graphs must be related to the problem of interest and the key outcome(s). Make sure you include **numerical and/or graphical summaries** of each of your variables. Generally, it might be helpful to use this section to explore the **relationship between your outcome variable and your other variables.**\n",
    "\n",
    "### Inference: Hypothesis Test or Bootstrap Confidence Interval\n",
    "\n",
    "You must include a **hypothesis test or confidence interval** in your report. This is how you should answer the first question (Who supports ranked choice voting currently?). Make a statement about differences in support of ranked choice voting by certain variables. You have some freedom in the choice of variables to look at in this section, but make sure it relates back to the Introduction section.\n",
    "\n",
    "Make sure you are clear about what you are trying to find out when you explain the choice of hypothesis test or confidence interval. For example, if you are trying to see whether there are differences in opinion about ranked choice voting based on another categorical variable, then you might be using a hypothesis test. However, if you are only interested in finding out the different proportions of people who support ranked choice voting, then you might be using a confidence interval.\n",
    "\n",
    "### Prediction\n",
    "\n",
    "You must include at least one **prediction** component in your final project. You may need to do some data cleaning in order to get it in a state that you can use. Make sure you go through the full machine learning workflow to identify the best model. Remember, our primary goal in this section is to find a way to predict whether people will support ranked choice voting or not. \n",
    "\n",
    "Make sure you are clear on what you are designating as the \"positive\" case, and the ultimate goal of the prediction. Identify the best model according to the chosen performance metric, and make sure to report the exact model specifications and the actual performance of the model. \n",
    "\n",
    "### Conclusion\n",
    "\n",
    "You must make some sort of proposal for a **plan of action**. This should be directly related to the problem you described at the very beginning. "
   ]
  },
  {
   "cell_type": "markdown",
   "metadata": {},
   "source": [
    "## Variables and Questions\n",
    "\n",
    "- **Gender**: What gender do you identify with?\n",
    "- **Age**: What is your age?\n",
    "- **Race**: What is your race? (white, black, latino, asian, other)\n",
    "- **Education**: What is your highest level of education? (High school or less, Some college, College degree, Graduate degree)\n",
    "- **Political Affiliation**:  In politics today, do you consider yourself a Democrat, a Republican, or Independent?\n",
    "- **Political Leaning**: Would you say you are liberal, conservative, or moderate?\n",
    "- **Trump**: Do you approve, disapprove, or neither approve nor disapprove of how Donald Trump is handling his job as president? (for \"approve\" or \"disapprove,\" probe: strongly or somewhat?)\n",
    "- **Finances**: How often do you worry about your financial situation? (very often, somewhat often, or not very often)\n",
    "- **Fair Elections**:  Going into the 2018 midterm elections, are you confident that votes nationwide will be counted fairly?\n",
    "- **Ranked Choice**: Would you support a voting system in which people could choose their first choice candidate, their second choice candidate, their third choice candidate, and so on?\n",
    "- **Woman President**: If you had to guess, do you think America will elect a woman president in the next 25 years?\n",
    "- **Universal Healthcare**: Do you think Americans will have universal, guaranteed healthcare in the next 25 years?"
   ]
  }
 ],
 "metadata": {
  "kernelspec": {
   "display_name": "Python 3 (ipykernel)",
   "language": "python",
   "name": "python3"
  },
  "language_info": {
   "codemirror_mode": {
    "name": "ipython",
    "version": 3
   },
   "file_extension": ".py",
   "mimetype": "text/x-python",
   "name": "python",
   "nbconvert_exporter": "python",
   "pygments_lexer": "ipython3",
   "version": "3.10.9"
  },
  "toc": {
   "base_numbering": 1,
   "nav_menu": {},
   "number_sections": true,
   "sideBar": true,
   "skip_h1_title": false,
   "title_cell": "Table of Contents",
   "title_sidebar": "Contents",
   "toc_cell": false,
   "toc_position": {},
   "toc_section_display": true,
   "toc_window_display": false
  }
 },
 "nbformat": 4,
 "nbformat_minor": 4
}
